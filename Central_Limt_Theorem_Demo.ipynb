{
  "nbformat": 4,
  "nbformat_minor": 0,
  "metadata": {
    "colab": {
      "name": "Central Limt Theorem Demo.ipynb",
      "provenance": [],
      "collapsed_sections": [],
      "authorship_tag": "ABX9TyOv/MB42DFYZqFKtswPoTUg",
      "include_colab_link": true
    },
    "kernelspec": {
      "name": "python3",
      "display_name": "Python 3"
    },
    "language_info": {
      "name": "python"
    }
  },
  "cells": [
    {
      "cell_type": "markdown",
      "metadata": {
        "id": "view-in-github",
        "colab_type": "text"
      },
      "source": [
        "<a href=\"https://colab.research.google.com/github/changsksu/IMSE_Data_Science/blob/main/Central_Limt_Theorem_Demo.ipynb\" target=\"_parent\"><img src=\"https://colab.research.google.com/assets/colab-badge.svg\" alt=\"Open In Colab\"/></a>"
      ]
    },
    {
      "cell_type": "markdown",
      "metadata": {
        "id": "d_QR914jQfhc"
      },
      "source": [
        "**This notebook introduces a few useful descriptive statistics offered in python. Not all functions are offered in one library. Usually there are alteratives to do the same computations.** "
      ]
    },
    {
      "cell_type": "markdown",
      "metadata": {
        "id": "PejXMTvrLfqP"
      },
      "source": [
        "Using a uniform distribution to demonstrate Central Limit Theorem (**CLT**)"
      ]
    },
    {
      "cell_type": "code",
      "metadata": {
        "id": "yTn_p0aJQ6vI"
      },
      "source": [
        "import math\n",
        "import statistics\n",
        "import numpy as np\n",
        "import scipy.stats\n",
        "import pandas as pd\n",
        "import matplotlib.pyplot as plt"
      ],
      "execution_count": 1,
      "outputs": []
    },
    {
      "cell_type": "code",
      "metadata": {
        "id": "luI70BWrGjiw"
      },
      "source": [
        "# generate uniform random number\n",
        "# n is the sample size\n",
        "n=1\n",
        "size=500\n",
        "# each element is replaced by the mean of n uniformly distributed sample\n",
        "x2 = pd.Series(np.random.random(size))\n",
        "for i in range(size): \n",
        "  sample2=np.random.random_sample(n)\n",
        "  x2[i]=np.mean(sample2)\n"
      ],
      "execution_count": 4,
      "outputs": []
    },
    {
      "cell_type": "code",
      "metadata": {
        "colab": {
          "base_uri": "https://localhost:8080/",
          "height": 295
        },
        "id": "ldGPYVwSGQ3X",
        "outputId": "905de1c3-f368-45ca-8bb8-b8015b5c965f"
      },
      "source": [
        "#Cental limit theorem demo\n",
        "\n",
        "x2.plot.hist(grid=True, bins=20, rwidth=0.9,\n",
        "                   color='#607c8e')\n",
        "plt.title('uniform random CLT')\n",
        "plt.xlabel('Transformed Data')\n",
        "plt.ylabel('Frequency')\n",
        "plt.grid(axis='y', alpha=0.75)"
      ],
      "execution_count": 5,
      "outputs": [
        {
          "output_type": "display_data",
          "data": {
            "image/png": "[encoded data removed]",
            "text/plain": [
              "<Figure size 432x288 with 1 Axes>"
            ]
          },
          "metadata": {
            "needs_background": "light"
          }
        }
      ]
    },
    {
      "cell_type": "markdown",
      "metadata": {
        "id": "jZpaUIYXNf0-"
      },
      "source": [
        "Your turn: can you replace the uniform distribution with an exponential distribution?"
      ]
    }
  ]
}