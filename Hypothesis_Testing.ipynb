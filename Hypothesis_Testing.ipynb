{
  "nbformat": 4,
  "nbformat_minor": 0,
  "metadata": {
    "colab": {
      "name": "Hypothesis Testing.ipynb",
      "provenance": [],
      "collapsed_sections": [],
      "authorship_tag": "ABX9TyOl2pHHqnz9SZ1C57H3Q1Yd",
      "include_colab_link": true
    },
    "kernelspec": {
      "name": "python3",
      "display_name": "Python 3"
    },
    "language_info": {
      "name": "python"
    }
  },
  "cells": [
    {
      "cell_type": "markdown",
      "metadata": {
        "id": "view-in-github",
        "colab_type": "text"
      },
      "source": [
        "<a href=\"https://colab.research.google.com/github/changsksu/IMSE_Data_Science/blob/main/Hypothesis_Testing.ipynb\" target=\"_parent\"><img src=\"https://colab.research.google.com/assets/colab-badge.svg\" alt=\"Open In Colab\"/></a>"
      ]
    },
    {
      "cell_type": "markdown",
      "metadata": {
        "id": "NFXPRPA2d7I-"
      },
      "source": [
        "This nb demonstrates the use of scipy ttest function.\n",
        "\n",
        "scipy.stats.ttest_1samp(a, popmean, axis=0, nan_policy='propagate', alternative='two-sided') **bold text**\n",
        "alternative{‘two-sided’, ‘less’, ‘greater’}, optional\n",
        "Defines the alternative hypothesis. The following options are available (default is ‘two-sided’): ‘two-sided’ ‘less’: one-sided ‘greater’: one-sided\n",
        "Ref. https://docs.scipy.org/doc/scipy/reference/generated/scipy.stats.ttest_1samp.html"
      ]
    },
    {
      "cell_type": "code",
      "metadata": {
        "id": "Rc7nYxvoWrGy"
      },
      "source": [
        "import math\n",
        "import statistics\n",
        "import numpy as np\n",
        "import scipy.stats\n",
        "import pandas as pd\n",
        "import matplotlib.pyplot as plt"
      ],
      "execution_count": 42,
      "outputs": []
    },
    {
      "cell_type": "code",
      "metadata": {
        "colab": {
          "base_uri": "https://localhost:8080/"
        },
        "id": "WalnA3Gt_bGr",
        "outputId": "716133ff-aec5-4e36-e96f-36c7a2271135"
      },
      "source": [
        "import platform\n",
        "print(platform.python_version())"
      ],
      "execution_count": 43,
      "outputs": [
        {
          "output_type": "stream",
          "name": "stdout",
          "text": [
            "3.7.11\n"
          ]
        }
      ]
    },
    {
      "cell_type": "code",
      "metadata": {
        "colab": {
          "base_uri": "https://localhost:8080/"
        },
        "id": "PZkxjciTGKEH",
        "outputId": "f7f70a3e-a135-491b-cb27-ff68c0fec7f3"
      },
      "source": [
        "scipy.version"
      ],
      "execution_count": 44,
      "outputs": [
        {
          "output_type": "execute_result",
          "data": {
            "text/plain": [
              "<module 'scipy.version' from '/usr/local/lib/python3.7/dist-packages/scipy/version.py'>"
            ]
          },
          "metadata": {},
          "execution_count": 44
        }
      ]
    },
    {
      "cell_type": "code",
      "metadata": {
        "colab": {
          "base_uri": "https://localhost:8080/"
        },
        "id": "_sjTjemNXIIa",
        "outputId": "2ec458d2-1aaf-4157-c425-95984b406e39"
      },
      "source": [
        "# mount google drive\n",
        "from google.colab import drive\n",
        "drive.mount('/content/drive')"
      ],
      "execution_count": 45,
      "outputs": [
        {
          "output_type": "stream",
          "name": "stdout",
          "text": [
            "Drive already mounted at /content/drive; to attempt to forcibly remount, call drive.mount(\"/content/drive\", force_remount=True).\n"
          ]
        }
      ]
    },
    {
      "cell_type": "code",
      "metadata": {
        "id": "d_RyJ4BbXvS_"
      },
      "source": [
        "#the 2nd read option assume that the data file is rignt under your default google drive directory\n",
        "data = pd.read_csv('drive/My Drive/Colab Notebooks/IMSE_Data_Science/brain_size.csv', sep=';', na_values=\".\")\n",
        "#data = pd.read_csv('drive/My Drive/brain_size.csv', sep=';', na_values=\".\")\n",
        "data  "
      ],
      "execution_count": null,
      "outputs": []
    },
    {
      "cell_type": "code",
      "metadata": {
        "colab": {
          "base_uri": "https://localhost:8080/"
        },
        "id": "qYd6JIwTei8I",
        "outputId": "3f8e0305-b153-46a4-d0a7-bead99c47aad"
      },
      "source": [
        "np.mean(data['VIQ'])"
      ],
      "execution_count": null,
      "outputs": [
        {
          "output_type": "execute_result",
          "data": {
            "text/plain": [
              "112.35"
            ]
          },
          "metadata": {},
          "execution_count": 13
        }
      ]
    },
    {
      "cell_type": "code",
      "metadata": {
        "colab": {
          "base_uri": "https://localhost:8080/"
        },
        "id": "ZwGSQt00c3U-",
        "outputId": "52ca71cd-cca0-4da0-8eb0-cfe05f1e7d11"
      },
      "source": [
        "# one sample t test (default two sided test)\n",
        "# there are two ways to run this one sample t test\n",
        "#stats.ttest_1samp(data['VIQ'], 110)\n",
        "stats.ttest_1samp(a=data['VIQ'], popmean=110)"
      ],
      "execution_count": 47,
      "outputs": [
        {
          "output_type": "execute_result",
          "data": {
            "text/plain": [
              "Ttest_1sampResult(statistic=0.6293461053092635, pvalue=0.5327920500038907)"
            ]
          },
          "metadata": {},
          "execution_count": 47
        }
      ]
    },
    {
      "cell_type": "code",
      "metadata": {
        "id": "KQL6fSEGe1Ls"
      },
      "source": [
        "# one sample t test (default two sided test)\n",
        "# this version of scipy.stats does not like the alternative argument! \n",
        "#  the remedy is to use 2*pvalue from the above cell for decision criterion \n",
        "stats.ttest_1samp(a=data['VIQ'], popmean=110, alternative='greater')"
      ],
      "execution_count": null,
      "outputs": []
    },
    {
      "cell_type": "code",
      "metadata": {
        "colab": {
          "base_uri": "https://localhost:8080/"
        },
        "id": "0395SDj6HRR5",
        "outputId": "dbf58de4-67b3-4244-fd89-788e49a9d0b6"
      },
      "source": [
        "#two sample t-test\n",
        "male_viq=data[data['Gender']=='Male']['VIQ']\n",
        "female_viq=data[data['Gender']=='Female']['VIQ']\n",
        "stats.ttest_ind(female_viq, male_viq)"
      ],
      "execution_count": null,
      "outputs": [
        {
          "output_type": "execute_result",
          "data": {
            "text/plain": [
              "Ttest_indResult(statistic=-0.7726161723275011, pvalue=0.44452876778583217)"
            ]
          },
          "metadata": {},
          "execution_count": 31
        }
      ]
    },
    {
      "cell_type": "code",
      "metadata": {
        "colab": {
          "base_uri": "https://localhost:8080/"
        },
        "id": "fMDdmGYLItal",
        "outputId": "d7687c15-c843-4b14-c0c6-4cb6b77927dd"
      },
      "source": [
        "#F test for variances of two populations\n",
        "# the following function is user defined\n",
        "def f_test(x,y):\n",
        "  x=np.array(x)\n",
        "  y=np.array(y)\n",
        "  f=np.var(x,ddof=1)/np.var(y, ddof=1) # cal F test statistic\n",
        "  dfn=x.size-1\n",
        "  dfd=y.size-1\n",
        "  p=1-scipy.stats.f.cdf(f,dfn, dfd) #find p-value of F test statistics\n",
        "  return f, p\n",
        "\n",
        "f_test(male_viq, female_viq)"
      ],
      "execution_count": 49,
      "outputs": [
        {
          "output_type": "execute_result",
          "data": {
            "text/plain": [
              "(1.3999574131873427, 0.23514586725149234)"
            ]
          },
          "metadata": {},
          "execution_count": 49
        }
      ]
    },
    {
      "cell_type": "code",
      "metadata": {
        "colab": {
          "base_uri": "https://localhost:8080/"
        },
        "id": "E_hsR5YeKiIk",
        "outputId": "d6bc5ec1-03ca-4dfa-cc44-9e71d64d4653"
      },
      "source": [
        "#Paired t-Test method 1: using one sample t test\n",
        "#Test if FISQ and PIQ are signficantly different\n",
        "#The data for the pair (FISQ, PIQ) are obtained for the same subject \n",
        "diff=data['FSIQ']-data['VIQ']\n",
        "stats.ttest_1samp(diff, 0)\n"
      ],
      "execution_count": 50,
      "outputs": [
        {
          "output_type": "execute_result",
          "data": {
            "text/plain": [
              "Ttest_1sampResult(statistic=0.8913911665594247, pvalue=0.37818604189634275)"
            ]
          },
          "metadata": {},
          "execution_count": 50
        }
      ]
    },
    {
      "cell_type": "markdown",
      "metadata": {
        "id": "7XmIgnCIMf5j"
      },
      "source": [
        "The above p-value is large, which suggests H0 can not be rejected."
      ]
    },
    {
      "cell_type": "code",
      "metadata": {
        "colab": {
          "base_uri": "https://localhost:8080/"
        },
        "id": "uEYj54e1M_o3",
        "outputId": "771cb2d9-f680-42d0-d5fa-2d8fa0e0188f"
      },
      "source": [
        "#Paired t-Test method 2: using repeated measures test\n",
        "#Test if FISQ and PIQ are signficantly different\n",
        "#The data for the pair (FISQ, PIQ) are obtained for the same subject \n",
        "\n",
        "stats.ttest_rel(data['FSIQ'],data['VIQ'])"
      ],
      "execution_count": 51,
      "outputs": [
        {
          "output_type": "execute_result",
          "data": {
            "text/plain": [
              "Ttest_relResult(statistic=0.8913911665594247, pvalue=0.37818604189634275)"
            ]
          },
          "metadata": {},
          "execution_count": 51
        }
      ]
    }
  ]
}