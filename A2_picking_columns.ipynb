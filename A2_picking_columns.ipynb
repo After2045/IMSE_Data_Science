{
  "nbformat": 4,
  "nbformat_minor": 0,
  "metadata": {
    "colab": {
      "name": "A2 picking columns.ipynb",
      "provenance": [],
      "collapsed_sections": [],
      "authorship_tag": "ABX9TyP7VbqJX/ELsW5fMXZofz8R",
      "include_colab_link": true
    },
    "kernelspec": {
      "name": "python3",
      "display_name": "Python 3"
    },
    "language_info": {
      "name": "python"
    }
  },
  "cells": [
    {
      "cell_type": "markdown",
      "metadata": {
        "id": "view-in-github",
        "colab_type": "text"
      },
      "source": [
        "<a href=\"https://colab.research.google.com/github/changsksu/IMSE_Data_Science/blob/main/A2_picking_columns.ipynb\" target=\"_parent\"><img src=\"https://colab.research.google.com/assets/colab-badge.svg\" alt=\"Open In Colab\"/></a>"
      ]
    },
    {
      "cell_type": "markdown",
      "metadata": {
        "id": "KVWBQyaMKYfc"
      },
      "source": [
        "This demo shows how to read the Ex4.9 data set into Python. 4.9.csv is on my google drive"
      ]
    },
    {
      "cell_type": "code",
      "metadata": {
        "id": "GqZv-a8tGOxr"
      },
      "source": [
        "import math\n",
        "import statistics\n",
        "import numpy as np\n",
        "import scipy.stats\n",
        "import pandas as pd\n",
        "import matplotlib.pyplot as plt"
      ],
      "execution_count": null,
      "outputs": []
    },
    {
      "cell_type": "code",
      "metadata": {
        "colab": {
          "base_uri": "https://localhost:8080/"
        },
        "id": "jDz6Mt0lGUMZ",
        "outputId": "df1dbc9a-1ba3-43bf-a06e-5cd341c47ff0"
      },
      "source": [
        "# mount google drive\n",
        "from google.colab import drive\n",
        "drive.mount('/content/drive')"
      ],
      "execution_count": null,
      "outputs": [
        {
          "output_type": "stream",
          "name": "stdout",
          "text": [
            "Mounted at /content/drive\n"
          ]
        }
      ]
    },
    {
      "cell_type": "code",
      "metadata": {
        "colab": {
          "base_uri": "https://localhost:8080/",
          "height": 297
        },
        "id": "uxcCZEAoGq_a",
        "outputId": "64678f05-2458-42a3-bda6-e5eaae00b4b5"
      },
      "source": [
        "#the 2nd read option assume that the data file is rignt under your default google drive directory\n",
        "# the sep-',' argument in the read statement should be used in some cases if ; does not work\n",
        "data = pd.read_csv('drive/My Drive/Colab Notebooks/IMSE_Data_Science/Data/4.9.csv', sep=',', na_values=\".\")\n",
        "data "
      ],
      "execution_count": null,
      "outputs": [
        {
          "output_type": "execute_result",
          "data": {
            "text/html": [
              "<div>\n",
              "<style scoped>\n",
              "    .dataframe tbody tr th:only-of-type {\n",
              "        vertical-align: middle;\n",
              "    }\n",
              "\n",
              "    .dataframe tbody tr th {\n",
              "        vertical-align: top;\n",
              "    }\n",
              "\n",
              "    .dataframe thead th {\n",
              "        text-align: right;\n",
              "    }\n",
              "</style>\n",
              "<table border=\"1\" class=\"dataframe\">\n",
              "  <thead>\n",
              "    <tr style=\"text-align: right;\">\n",
              "      <th></th>\n",
              "      <th>Catalyst 1</th>\n",
              "      <th>Catalyst 2</th>\n",
              "    </tr>\n",
              "  </thead>\n",
              "  <tbody>\n",
              "    <tr>\n",
              "      <th>0</th>\n",
              "      <td>91.50</td>\n",
              "      <td>89.19</td>\n",
              "    </tr>\n",
              "    <tr>\n",
              "      <th>1</th>\n",
              "      <td>94.18</td>\n",
              "      <td>90.95</td>\n",
              "    </tr>\n",
              "    <tr>\n",
              "      <th>2</th>\n",
              "      <td>92.18</td>\n",
              "      <td>90.46</td>\n",
              "    </tr>\n",
              "    <tr>\n",
              "      <th>3</th>\n",
              "      <td>95.39</td>\n",
              "      <td>93.21</td>\n",
              "    </tr>\n",
              "    <tr>\n",
              "      <th>4</th>\n",
              "      <td>91.79</td>\n",
              "      <td>97.19</td>\n",
              "    </tr>\n",
              "    <tr>\n",
              "      <th>5</th>\n",
              "      <td>89.07</td>\n",
              "      <td>97.04</td>\n",
              "    </tr>\n",
              "    <tr>\n",
              "      <th>6</th>\n",
              "      <td>94.72</td>\n",
              "      <td>91.07</td>\n",
              "    </tr>\n",
              "    <tr>\n",
              "      <th>7</th>\n",
              "      <td>89.21</td>\n",
              "      <td>92.75</td>\n",
              "    </tr>\n",
              "  </tbody>\n",
              "</table>\n",
              "</div>"
            ],
            "text/plain": [
              "   Catalyst 1   Catalyst 2\n",
              "0       91.50        89.19\n",
              "1       94.18        90.95\n",
              "2       92.18        90.46\n",
              "3       95.39        93.21\n",
              "4       91.79        97.19\n",
              "5       89.07        97.04\n",
              "6       94.72        91.07\n",
              "7       89.21        92.75"
            ]
          },
          "metadata": {},
          "execution_count": 4
        }
      ]
    },
    {
      "cell_type": "code",
      "metadata": {
        "colab": {
          "base_uri": "https://localhost:8080/"
        },
        "id": "buIXzqf1HC3R",
        "outputId": "0f18dc89-65a1-41b5-db16-5e46843d4c0b"
      },
      "source": [
        "x=data['Catalyst 1']\n",
        "x"
      ],
      "execution_count": null,
      "outputs": [
        {
          "output_type": "execute_result",
          "data": {
            "text/plain": [
              "0    91.50\n",
              "1    94.18\n",
              "2    92.18\n",
              "3    95.39\n",
              "4    91.79\n",
              "5    89.07\n",
              "6    94.72\n",
              "7    89.21\n",
              "Name: Catalyst 1, dtype: float64"
            ]
          },
          "metadata": {},
          "execution_count": 5
        }
      ]
    },
    {
      "cell_type": "code",
      "metadata": {
        "colab": {
          "base_uri": "https://localhost:8080/"
        },
        "id": "UwEIc1J4HMQ1",
        "outputId": "8e2ecb9f-df0b-42f5-c517-8675e566f50c"
      },
      "source": [
        "#note that there is a space in front of Catalyst 2. Since the space is a part of the name, it should be included\n",
        "#choose the column name after you type in data[]; this will ease the potential naming issue\n",
        "y=data[' Catalyst 2']\n",
        "y"
      ],
      "execution_count": null,
      "outputs": [
        {
          "output_type": "execute_result",
          "data": {
            "text/plain": [
              "0    89.19\n",
              "1    90.95\n",
              "2    90.46\n",
              "3    93.21\n",
              "4    97.19\n",
              "5    97.04\n",
              "6    91.07\n",
              "7    92.75\n",
              "Name:  Catalyst 2, dtype: float64"
            ]
          },
          "metadata": {},
          "execution_count": 6
        }
      ]
    },
    {
      "cell_type": "code",
      "metadata": {
        "colab": {
          "base_uri": "https://localhost:8080/"
        },
        "id": "2ng3UXk8IiLA",
        "outputId": "4a1f9149-4646-4389-953d-b9a533a87d9d"
      },
      "source": [
        "# use numpy array to separate the data\n",
        "a=data.to_numpy()\n",
        "a \n"
      ],
      "execution_count": null,
      "outputs": [
        {
          "output_type": "execute_result",
          "data": {
            "text/plain": [
              "array([[91.5 , 89.19],\n",
              "       [94.18, 90.95],\n",
              "       [92.18, 90.46],\n",
              "       [95.39, 93.21],\n",
              "       [91.79, 97.19],\n",
              "       [89.07, 97.04],\n",
              "       [94.72, 91.07],\n",
              "       [89.21, 92.75]])"
            ]
          },
          "metadata": {},
          "execution_count": 12
        }
      ]
    },
    {
      "cell_type": "code",
      "metadata": {
        "colab": {
          "base_uri": "https://localhost:8080/"
        },
        "id": "kexOzr3IJroq",
        "outputId": "41941e57-b716-48db-a6e6-ccd3791fd674"
      },
      "source": [
        "# obtain the first column\n",
        "b=a[:,0]\n",
        "b"
      ],
      "execution_count": null,
      "outputs": [
        {
          "output_type": "execute_result",
          "data": {
            "text/plain": [
              "array([91.5 , 94.18, 92.18, 95.39, 91.79, 89.07, 94.72, 89.21])"
            ]
          },
          "metadata": {},
          "execution_count": 13
        }
      ]
    }
  ]
}