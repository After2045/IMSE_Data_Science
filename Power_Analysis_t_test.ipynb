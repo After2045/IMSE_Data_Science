{
  "nbformat": 4,
  "nbformat_minor": 0,
  "metadata": {
    "colab": {
      "name": "Power Analysis t-test.ipynb",
      "provenance": [],
      "collapsed_sections": [],
      "authorship_tag": "ABX9TyMNxEJYPVHtDvAP0Kjt/VZG",
      "include_colab_link": true
    },
    "kernelspec": {
      "name": "python3",
      "display_name": "Python 3"
    },
    "language_info": {
      "name": "python"
    }
  },
  "cells": [
    {
      "cell_type": "markdown",
      "metadata": {
        "id": "view-in-github",
        "colab_type": "text"
      },
      "source": [
        "<a href=\"https://colab.research.google.com/github/changsksu/IMSE_Data_Science/blob/main/Power_Analysis_t_test.ipynb\" target=\"_parent\"><img src=\"https://colab.research.google.com/assets/colab-badge.svg\" alt=\"Open In Colab\"/></a>"
      ]
    },
    {
      "cell_type": "code",
      "metadata": {
        "id": "U-hLwlANdjbZ"
      },
      "source": [
        "This NB provides the computation for power analysis of student's t test \n",
        "For detailed information, refer to \n",
        "https://machinelearningmastery.com/statistical-power-and-power-analysis-in-python/"
      ],
      "execution_count": null,
      "outputs": []
    },
    {
      "cell_type": "markdown",
      "metadata": {
        "id": "fYBIWjrDdrnW"
      },
      "source": [
        ""
      ]
    },
    {
      "cell_type": "code",
      "metadata": {
        "colab": {
          "base_uri": "https://localhost:8080/"
        },
        "id": "5_rO7qAcdq-A",
        "outputId": "47f5a673-c18a-44a9-cbc4-38068137a83d"
      },
      "source": [
        "from numpy import array\n",
        "from matplotlib import pyplot\n",
        "from statsmodels.stats.power import TTestIndPower"
      ],
      "execution_count": null,
      "outputs": [
        {
          "output_type": "stream",
          "name": "stderr",
          "text": [
            "/usr/local/lib/python3.7/dist-packages/statsmodels/tools/_testing.py:19: FutureWarning: pandas.util.testing is deprecated. Use the functions in the public API at pandas.testing instead.\n",
            "  import pandas.util.testing as tm\n"
          ]
        }
      ]
    },
    {
      "cell_type": "markdown",
      "metadata": {
        "id": "DxAbHywRilqi"
      },
      "source": [
        "The size of the **effect** of comparing two groups can be quantified with an effect size measure. A common measure for comparing the difference in the mean from two groups is the Cohen’s d measure. It calculates a standard score that describes the difference in terms of the number of standard deviations that the means are different. A large effect size for Cohen’s d is 0.80 or higher, as is commonly accepted when using the measure."
      ]
    },
    {
      "cell_type": "code",
      "metadata": {
        "colab": {
          "base_uri": "https://localhost:8080/"
        },
        "id": "X-dx2S1AiD-t",
        "outputId": "34a97cfb-d712-4a72-8a3c-5df6f487b2c0"
      },
      "source": [
        "# parameters for power analysis\n",
        "effect = 0.8 #default 0.8 of Cohen's d\n",
        "alpha = 0.05 #default 0.05 or 5%\n",
        "power = 0.9 #default 0.8 or 80%\n",
        "# perform power analysis\n",
        "analysis = TTestIndPower()\n",
        "result = analysis.solve_power(effect, power=power, nobs1=None, ratio=1.0, alpha=alpha)\n",
        "print('Sample Size: %.3f' % result)"
      ],
      "execution_count": null,
      "outputs": [
        {
          "output_type": "stream",
          "name": "stdout",
          "text": [
            "Sample Size: 33.826\n"
          ]
        }
      ]
    },
    {
      "cell_type": "code",
      "metadata": {
        "colab": {
          "base_uri": "https://localhost:8080/",
          "height": 295
        },
        "id": "Sn_IbeyZgpYH",
        "outputId": "683ff2be-85bd-45e3-a475-bd65c1fb91fc"
      },
      "source": [
        "# parameters for power analysis\n",
        "effect_sizes = array([0.5, 0.8, 1.0])\n",
        "sample_sizes = array(range(5, 100))\n",
        "# calculate power curves from multiple power analyses\n",
        "analysis = TTestIndPower()\n",
        "analysis.plot_power(dep_var='nobs', nobs=sample_sizes, effect_size=effect_sizes)\n",
        "pyplot.show()"
      ],
      "execution_count": null,
      "outputs": [
        {
          "output_type": "display_data",
          "data": {
            "image/png": "[encoded data removed]",
            "text/plain": [
              "<Figure size 432x288 with 1 Axes>"
            ]
          },
          "metadata": {
            "needs_background": "light"
          }
        }
      ]
    }
  ]
}