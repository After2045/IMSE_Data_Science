{
  "nbformat": 4,
  "nbformat_minor": 0,
  "metadata": {
    "colab": {
      "name": "Descriptive Statistics.ipynb",
      "provenance": [],
      "collapsed_sections": [],
      "authorship_tag": "ABX9TyMimqxJ037gT8bIF7RImWpe",
      "include_colab_link": true
    },
    "kernelspec": {
      "name": "python3",
      "display_name": "Python 3"
    },
    "language_info": {
      "name": "python"
    }
  },
  "cells": [
    {
      "cell_type": "markdown",
      "metadata": {
        "id": "view-in-github",
        "colab_type": "text"
      },
      "source": [
        "<a href=\"https://colab.research.google.com/github/changsksu/IMSE_Data_Science/blob/main/Descriptive_Statistics.ipynb\" target=\"_parent\"><img src=\"https://colab.research.google.com/assets/colab-badge.svg\" alt=\"Open In Colab\"/></a>"
      ]
    },
    {
      "cell_type": "markdown",
      "metadata": {
        "id": "d_QR914jQfhc"
      },
      "source": [
        "**This notebook introduces a few useful descriptive statistics offered in python. Not all functions are offered in one library. Usually there are alteratives to do the same computations.** "
      ]
    },
    {
      "cell_type": "code",
      "metadata": {
        "id": "yTn_p0aJQ6vI"
      },
      "source": [
        "import statistics\n",
        "import numpy as np\n",
        "import scipy.stats\n",
        "import pandas as pd"
      ],
      "execution_count": 1,
      "outputs": []
    },
    {
      "cell_type": "code",
      "metadata": {
        "colab": {
          "base_uri": "https://localhost:8080/"
        },
        "id": "rKLM-5E4RFQ0",
        "outputId": "6a5ab36a-0b96-466b-9fcb-573c48495240"
      },
      "source": [
        "# Example data set\n",
        "x=[1,5,7,2,3,4,6,10]\n",
        "x"
      ],
      "execution_count": 2,
      "outputs": [
        {
          "output_type": "execute_result",
          "data": {
            "text/plain": [
              "[1, 5, 7, 2, 3, 4, 6, 10]"
            ]
          },
          "metadata": {},
          "execution_count": 2
        }
      ]
    },
    {
      "cell_type": "code",
      "metadata": {
        "colab": {
          "base_uri": "https://localhost:8080/"
        },
        "id": "hXPKhgxkRSmd",
        "outputId": "4aa4bc3e-4951-45b1-ab1e-5c00b9f225da"
      },
      "source": [
        "# mean via statistics library\n",
        "mean_=statistics.mean(x)\n",
        "mean_"
      ],
      "execution_count": 3,
      "outputs": [
        {
          "output_type": "execute_result",
          "data": {
            "text/plain": [
              "4.75"
            ]
          },
          "metadata": {},
          "execution_count": 3
        }
      ]
    },
    {
      "cell_type": "code",
      "metadata": {
        "colab": {
          "base_uri": "https://localhost:8080/"
        },
        "id": "wIPje9kZRoIt",
        "outputId": "f8a60db4-ce5d-4917-ce09-8a3c9c646da5"
      },
      "source": [
        "# mean via np\n",
        "mean_2=np.mean(x)\n",
        "mean_2"
      ],
      "execution_count": 4,
      "outputs": [
        {
          "output_type": "execute_result",
          "data": {
            "text/plain": [
              "4.75"
            ]
          },
          "metadata": {},
          "execution_count": 4
        }
      ]
    },
    {
      "cell_type": "code",
      "metadata": {
        "colab": {
          "base_uri": "https://localhost:8080/"
        },
        "id": "wtbC-zVXRvTJ",
        "outputId": "14984762-f2f8-49bb-d501-0406a2b9b283"
      },
      "source": [
        "# median via statistics library\n",
        "median_=statistics.median(x)\n",
        "median_"
      ],
      "execution_count": 5,
      "outputs": [
        {
          "output_type": "execute_result",
          "data": {
            "text/plain": [
              "4.5"
            ]
          },
          "metadata": {},
          "execution_count": 5
        }
      ]
    },
    {
      "cell_type": "code",
      "metadata": {
        "colab": {
          "base_uri": "https://localhost:8080/"
        },
        "id": "GUx1fe18Ryoi",
        "outputId": "404779a6-2895-4a37-c9bb-722e6422c462"
      },
      "source": [
        "# median via np\n",
        "median_2=np.median(x)\n",
        "median_2"
      ],
      "execution_count": 6,
      "outputs": [
        {
          "output_type": "execute_result",
          "data": {
            "text/plain": [
              "4.5"
            ]
          },
          "metadata": {},
          "execution_count": 6
        }
      ]
    },
    {
      "cell_type": "code",
      "metadata": {
        "colab": {
          "base_uri": "https://localhost:8080/"
        },
        "id": "5qLuAZExR5o8",
        "outputId": "8df9a330-be0a-4191-b9aa-35b657c12861"
      },
      "source": [
        "# standard deviation\n",
        "\n",
        "std_=statistics.stdev(x)\n",
        "std_"
      ],
      "execution_count": 7,
      "outputs": [
        {
          "output_type": "execute_result",
          "data": {
            "text/plain": [
              "2.9154759474226504"
            ]
          },
          "metadata": {},
          "execution_count": 7
        }
      ]
    },
    {
      "cell_type": "markdown",
      "metadata": {
        "id": "oCpTutXWSDiR"
      },
      "source": [
        "**Your turn:** \n",
        "1. generate std using np\n",
        "2. generate variance using both statistics and np"
      ]
    },
    {
      "cell_type": "code",
      "metadata": {
        "colab": {
          "base_uri": "https://localhost:8080/"
        },
        "id": "ORqBkCL-ScBX",
        "outputId": "f1ea51bf-e30d-4dd2-f6ce-49c390832ec3"
      },
      "source": [
        "#quartile\n",
        "quartiles = np.quantile(x, [0.25, 0.75])\n",
        "Q1=quartiles[0]\n",
        "Q3=quartiles[1]\n",
        "# interquartile range\n",
        "IQR_=Q3-Q1\n",
        "IQR_\n"
      ],
      "execution_count": 11,
      "outputs": [
        {
          "output_type": "execute_result",
          "data": {
            "text/plain": [
              "3.5"
            ]
          },
          "metadata": {},
          "execution_count": 11
        }
      ]
    },
    {
      "cell_type": "code",
      "metadata": {
        "colab": {
          "base_uri": "https://localhost:8080/"
        },
        "id": "QzQznsDkR78T",
        "outputId": "4ffa6462-7cce-463e-f39d-30d8aa330afd"
      },
      "source": [
        "# Descriptive Statistics via scipy\n",
        "result = scipy.stats.describe(x, ddof=1, bias=False)\n",
        "result"
      ],
      "execution_count": 13,
      "outputs": [
        {
          "output_type": "execute_result",
          "data": {
            "text/plain": [
              "DescribeResult(nobs=8, minmax=(1, 10), mean=4.75, variance=8.5, skewness=0.6052891240323841, kurtosis=0.0941176470588232)"
            ]
          },
          "metadata": {},
          "execution_count": 13
        }
      ]
    },
    {
      "cell_type": "code",
      "metadata": {
        "colab": {
          "base_uri": "https://localhost:8080/"
        },
        "id": "Sy2UCJLwUO0f",
        "outputId": "08913e47-b9ea-4e47-84d5-5917861f4c16"
      },
      "source": [
        "#mean\n",
        "result.mean"
      ],
      "execution_count": 15,
      "outputs": [
        {
          "output_type": "execute_result",
          "data": {
            "text/plain": [
              "4.75"
            ]
          },
          "metadata": {},
          "execution_count": 15
        }
      ]
    },
    {
      "cell_type": "code",
      "metadata": {
        "colab": {
          "base_uri": "https://localhost:8080/"
        },
        "id": "OuKMmQ3cUtUJ",
        "outputId": "d027cee6-21ee-4bac-dd3d-18b926de92fc"
      },
      "source": [
        "#variance\n",
        "result.variance"
      ],
      "execution_count": 16,
      "outputs": [
        {
          "output_type": "execute_result",
          "data": {
            "text/plain": [
              "8.5"
            ]
          },
          "metadata": {},
          "execution_count": 16
        }
      ]
    },
    {
      "cell_type": "code",
      "metadata": {
        "colab": {
          "base_uri": "https://localhost:8080/"
        },
        "id": "uAtRBd07V556",
        "outputId": "c91d0283-9a4e-4251-fe84-970c0a2523bc"
      },
      "source": [
        "# Descriptive Statistics using Panda \n",
        "z=pd.Series(x)\n",
        "result2=z.describe()\n",
        "result2"
      ],
      "execution_count": 20,
      "outputs": [
        {
          "output_type": "execute_result",
          "data": {
            "text/plain": [
              "count     8.000000\n",
              "mean      4.750000\n",
              "std       2.915476\n",
              "min       1.000000\n",
              "25%       2.750000\n",
              "50%       4.500000\n",
              "75%       6.250000\n",
              "max      10.000000\n",
              "dtype: float64"
            ]
          },
          "metadata": {},
          "execution_count": 20
        }
      ]
    },
    {
      "cell_type": "code",
      "metadata": {
        "colab": {
          "base_uri": "https://localhost:8080/"
        },
        "id": "Xlit6YjHWkEs",
        "outputId": "25934a39-3189-4fb9-90eb-ee90479951cb"
      },
      "source": [
        "# read out the mean from the list\n",
        "# use the same pinciple to read the rest of the elements\n",
        "result2[\"mean\"]"
      ],
      "execution_count": 26,
      "outputs": [
        {
          "output_type": "execute_result",
          "data": {
            "text/plain": [
              "4.75"
            ]
          },
          "metadata": {},
          "execution_count": 26
        }
      ]
    },
    {
      "cell_type": "code",
      "metadata": {
        "colab": {
          "base_uri": "https://localhost:8080/"
        },
        "id": "VW8tlmnDWo7F",
        "outputId": "4a4019d1-5793-4fa8-adad-2708afff8875"
      },
      "source": [
        "# read out the 25 percentile\n",
        "result2[\"25%\"]"
      ],
      "execution_count": 23,
      "outputs": [
        {
          "output_type": "execute_result",
          "data": {
            "text/plain": [
              "2.75"
            ]
          },
          "metadata": {},
          "execution_count": 23
        }
      ]
    },
    {
      "cell_type": "code",
      "metadata": {
        "colab": {
          "base_uri": "https://localhost:8080/"
        },
        "id": "9smeLeylXWzu",
        "outputId": "01bcfaab-6c9a-47d9-d952-e1fdb10eb3c1"
      },
      "source": [
        "# compute the 5 percentile in this series\n",
        "z.quantile(0.25)"
      ],
      "execution_count": 25,
      "outputs": [
        {
          "output_type": "execute_result",
          "data": {
            "text/plain": [
              "2.75"
            ]
          },
          "metadata": {},
          "execution_count": 25
        }
      ]
    },
    {
      "cell_type": "markdown",
      "metadata": {
        "id": "ezGtponkXAJ7"
      },
      "source": [
        "Your turn:\n",
        "1. find the 75 percentile using the panda method\n",
        "2. compute the interquartile range using the panda results"
      ]
    },
    {
      "cell_type": "code",
      "metadata": {
        "colab": {
          "base_uri": "https://localhost:8080/"
        },
        "id": "A2X6ofjWXNOx",
        "outputId": "f2e63bb3-da00-4f58-b90e-5b9ec51379b0"
      },
      "source": [
        "# how many data points in a data series;\n",
        "# the following methods generate different data type\n",
        "result.nobs\n",
        "result2[\"count\"]\n",
        "len(x)"
      ],
      "execution_count": 29,
      "outputs": [
        {
          "output_type": "execute_result",
          "data": {
            "text/plain": [
              "8"
            ]
          },
          "metadata": {},
          "execution_count": 29
        }
      ]
    }
  ]
}