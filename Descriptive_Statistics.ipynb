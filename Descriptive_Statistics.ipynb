{
  "nbformat": 4,
  "nbformat_minor": 0,
  "metadata": {
    "colab": {
      "name": "Descriptive Statistics.ipynb",
      "provenance": [],
      "collapsed_sections": [],
      "authorship_tag": "ABX9TyMQOBtCcUD8B8d0FSOOQKd7",
      "include_colab_link": true
    },
    "kernelspec": {
      "name": "python3",
      "display_name": "Python 3"
    },
    "language_info": {
      "name": "python"
    }
  },
  "cells": [
    {
      "cell_type": "markdown",
      "metadata": {
        "id": "view-in-github",
        "colab_type": "text"
      },
      "source": [
        "<a href=\"https://colab.research.google.com/github/changsksu/IMSE_Data_Science/blob/main/Descriptive_Statistics.ipynb\" target=\"_parent\"><img src=\"https://colab.research.google.com/assets/colab-badge.svg\" alt=\"Open In Colab\"/></a>"
      ]
    },
    {
      "cell_type": "markdown",
      "metadata": {
        "id": "d_QR914jQfhc"
      },
      "source": [
        "**This notebook introduces a few useful descriptive statistics offered in python. Not all functions are offered in one library. Usually there are alteratives to do the same computations.** "
      ]
    },
    {
      "cell_type": "code",
      "metadata": {
        "id": "yTn_p0aJQ6vI"
      },
      "source": [
        "import math\n",
        "import statistics\n",
        "import numpy as np\n",
        "import scipy.stats\n",
        "import pandas as pd\n",
        "import matplotlib.pyplot as plt"
      ],
      "execution_count": 8,
      "outputs": []
    },
    {
      "cell_type": "code",
      "metadata": {
        "colab": {
          "base_uri": "https://localhost:8080/"
        },
        "id": "rKLM-5E4RFQ0",
        "outputId": "6a5ab36a-0b96-466b-9fcb-573c48495240"
      },
      "source": [
        "# Example data set\n",
        "x=[1,5,7,2,3,4,6,10]\n",
        "x"
      ],
      "execution_count": null,
      "outputs": [
        {
          "output_type": "execute_result",
          "data": {
            "text/plain": [
              "[1, 5, 7, 2, 3, 4, 6, 10]"
            ]
          },
          "metadata": {},
          "execution_count": 2
        }
      ]
    },
    {
      "cell_type": "code",
      "metadata": {
        "colab": {
          "base_uri": "https://localhost:8080/"
        },
        "id": "hXPKhgxkRSmd",
        "outputId": "4aa4bc3e-4951-45b1-ab1e-5c00b9f225da"
      },
      "source": [
        "# mean via statistics library\n",
        "mean_=statistics.mean(x)\n",
        "mean_"
      ],
      "execution_count": null,
      "outputs": [
        {
          "output_type": "execute_result",
          "data": {
            "text/plain": [
              "4.75"
            ]
          },
          "metadata": {},
          "execution_count": 3
        }
      ]
    },
    {
      "cell_type": "code",
      "metadata": {
        "colab": {
          "base_uri": "https://localhost:8080/"
        },
        "id": "wIPje9kZRoIt",
        "outputId": "f8a60db4-ce5d-4917-ce09-8a3c9c646da5"
      },
      "source": [
        "# mean via np\n",
        "mean_2=np.mean(x)\n",
        "mean_2"
      ],
      "execution_count": null,
      "outputs": [
        {
          "output_type": "execute_result",
          "data": {
            "text/plain": [
              "4.75"
            ]
          },
          "metadata": {},
          "execution_count": 4
        }
      ]
    },
    {
      "cell_type": "code",
      "metadata": {
        "colab": {
          "base_uri": "https://localhost:8080/"
        },
        "id": "wtbC-zVXRvTJ",
        "outputId": "14984762-f2f8-49bb-d501-0406a2b9b283"
      },
      "source": [
        "# median via statistics library\n",
        "median_=statistics.median(x)\n",
        "median_"
      ],
      "execution_count": null,
      "outputs": [
        {
          "output_type": "execute_result",
          "data": {
            "text/plain": [
              "4.5"
            ]
          },
          "metadata": {},
          "execution_count": 5
        }
      ]
    },
    {
      "cell_type": "code",
      "metadata": {
        "colab": {
          "base_uri": "https://localhost:8080/"
        },
        "id": "GUx1fe18Ryoi",
        "outputId": "404779a6-2895-4a37-c9bb-722e6422c462"
      },
      "source": [
        "# median via np\n",
        "median_2=np.median(x)\n",
        "median_2"
      ],
      "execution_count": null,
      "outputs": [
        {
          "output_type": "execute_result",
          "data": {
            "text/plain": [
              "4.5"
            ]
          },
          "metadata": {},
          "execution_count": 6
        }
      ]
    },
    {
      "cell_type": "code",
      "metadata": {
        "colab": {
          "base_uri": "https://localhost:8080/"
        },
        "id": "5qLuAZExR5o8",
        "outputId": "8df9a330-be0a-4191-b9aa-35b657c12861"
      },
      "source": [
        "# standard deviation\n",
        "\n",
        "std_=statistics.stdev(x)\n",
        "std_"
      ],
      "execution_count": null,
      "outputs": [
        {
          "output_type": "execute_result",
          "data": {
            "text/plain": [
              "2.9154759474226504"
            ]
          },
          "metadata": {},
          "execution_count": 7
        }
      ]
    },
    {
      "cell_type": "markdown",
      "metadata": {
        "id": "oCpTutXWSDiR"
      },
      "source": [
        "**Your turn:** \n",
        "1. generate std using np\n",
        "2. generate variance using both statistics and np"
      ]
    },
    {
      "cell_type": "code",
      "metadata": {
        "colab": {
          "base_uri": "https://localhost:8080/"
        },
        "id": "ORqBkCL-ScBX",
        "outputId": "f1ea51bf-e30d-4dd2-f6ce-49c390832ec3"
      },
      "source": [
        "#quartile\n",
        "quartiles = np.quantile(x, [0.25, 0.75])\n",
        "Q1=quartiles[0]\n",
        "Q3=quartiles[1]\n",
        "# interquartile range\n",
        "IQR_=Q3-Q1\n",
        "IQR_\n"
      ],
      "execution_count": null,
      "outputs": [
        {
          "output_type": "execute_result",
          "data": {
            "text/plain": [
              "3.5"
            ]
          },
          "metadata": {},
          "execution_count": 11
        }
      ]
    },
    {
      "cell_type": "code",
      "metadata": {
        "colab": {
          "base_uri": "https://localhost:8080/"
        },
        "id": "QzQznsDkR78T",
        "outputId": "4ffa6462-7cce-463e-f39d-30d8aa330afd"
      },
      "source": [
        "# Descriptive Statistics via scipy\n",
        "result = scipy.stats.describe(x, ddof=1, bias=False)\n",
        "result"
      ],
      "execution_count": null,
      "outputs": [
        {
          "output_type": "execute_result",
          "data": {
            "text/plain": [
              "DescribeResult(nobs=8, minmax=(1, 10), mean=4.75, variance=8.5, skewness=0.6052891240323841, kurtosis=0.0941176470588232)"
            ]
          },
          "metadata": {},
          "execution_count": 13
        }
      ]
    },
    {
      "cell_type": "code",
      "metadata": {
        "colab": {
          "base_uri": "https://localhost:8080/"
        },
        "id": "Sy2UCJLwUO0f",
        "outputId": "08913e47-b9ea-4e47-84d5-5917861f4c16"
      },
      "source": [
        "#mean\n",
        "result.mean"
      ],
      "execution_count": null,
      "outputs": [
        {
          "output_type": "execute_result",
          "data": {
            "text/plain": [
              "4.75"
            ]
          },
          "metadata": {},
          "execution_count": 15
        }
      ]
    },
    {
      "cell_type": "code",
      "metadata": {
        "colab": {
          "base_uri": "https://localhost:8080/"
        },
        "id": "OuKMmQ3cUtUJ",
        "outputId": "d027cee6-21ee-4bac-dd3d-18b926de92fc"
      },
      "source": [
        "#variance\n",
        "result.variance"
      ],
      "execution_count": null,
      "outputs": [
        {
          "output_type": "execute_result",
          "data": {
            "text/plain": [
              "8.5"
            ]
          },
          "metadata": {},
          "execution_count": 16
        }
      ]
    },
    {
      "cell_type": "code",
      "metadata": {
        "colab": {
          "base_uri": "https://localhost:8080/"
        },
        "id": "uAtRBd07V556",
        "outputId": "c91d0283-9a4e-4251-fe84-970c0a2523bc"
      },
      "source": [
        "# Descriptive Statistics using Panda \n",
        "z=pd.Series(x)\n",
        "result2=z.describe()\n",
        "result2"
      ],
      "execution_count": null,
      "outputs": [
        {
          "output_type": "execute_result",
          "data": {
            "text/plain": [
              "count     8.000000\n",
              "mean      4.750000\n",
              "std       2.915476\n",
              "min       1.000000\n",
              "25%       2.750000\n",
              "50%       4.500000\n",
              "75%       6.250000\n",
              "max      10.000000\n",
              "dtype: float64"
            ]
          },
          "metadata": {},
          "execution_count": 20
        }
      ]
    },
    {
      "cell_type": "code",
      "metadata": {
        "colab": {
          "base_uri": "https://localhost:8080/"
        },
        "id": "Xlit6YjHWkEs",
        "outputId": "25934a39-3189-4fb9-90eb-ee90479951cb"
      },
      "source": [
        "# read out the mean from the list\n",
        "# use the same pinciple to read the rest of the elements\n",
        "result2[\"mean\"]"
      ],
      "execution_count": null,
      "outputs": [
        {
          "output_type": "execute_result",
          "data": {
            "text/plain": [
              "4.75"
            ]
          },
          "metadata": {},
          "execution_count": 26
        }
      ]
    },
    {
      "cell_type": "code",
      "metadata": {
        "colab": {
          "base_uri": "https://localhost:8080/"
        },
        "id": "VW8tlmnDWo7F",
        "outputId": "4a4019d1-5793-4fa8-adad-2708afff8875"
      },
      "source": [
        "# read out the 25 percentile\n",
        "result2[\"25%\"]"
      ],
      "execution_count": null,
      "outputs": [
        {
          "output_type": "execute_result",
          "data": {
            "text/plain": [
              "2.75"
            ]
          },
          "metadata": {},
          "execution_count": 23
        }
      ]
    },
    {
      "cell_type": "code",
      "metadata": {
        "colab": {
          "base_uri": "https://localhost:8080/"
        },
        "id": "9smeLeylXWzu",
        "outputId": "01bcfaab-6c9a-47d9-d952-e1fdb10eb3c1"
      },
      "source": [
        "# compute the 5 percentile in this series\n",
        "z.quantile(0.25)"
      ],
      "execution_count": null,
      "outputs": [
        {
          "output_type": "execute_result",
          "data": {
            "text/plain": [
              "2.75"
            ]
          },
          "metadata": {},
          "execution_count": 25
        }
      ]
    },
    {
      "cell_type": "markdown",
      "metadata": {
        "id": "ezGtponkXAJ7"
      },
      "source": [
        "Your turn:\n",
        "1. find the 75 percentile using the panda method\n",
        "2. compute the interquartile range using the panda results"
      ]
    },
    {
      "cell_type": "code",
      "metadata": {
        "colab": {
          "base_uri": "https://localhost:8080/"
        },
        "id": "A2X6ofjWXNOx",
        "outputId": "f2e63bb3-da00-4f58-b90e-5b9ec51379b0"
      },
      "source": [
        "# how many data points in a data series;\n",
        "# the following methods generate different data type\n",
        "result.nobs\n",
        "result2[\"count\"]\n",
        "len(x)"
      ],
      "execution_count": null,
      "outputs": [
        {
          "output_type": "execute_result",
          "data": {
            "text/plain": [
              "8"
            ]
          },
          "metadata": {},
          "execution_count": 29
        }
      ]
    },
    {
      "cell_type": "code",
      "metadata": {
        "id": "cmJ0ulI3441r",
        "colab": {
          "base_uri": "https://localhost:8080/"
        },
        "outputId": "12e3ce39-f66e-4c54-c53c-e9376e3f9b2b"
      },
      "source": [
        "# stem and leaf diagram (data)\n",
        "z=np.random.randn(20)\n",
        "y=10+ 3*z\n",
        "y\n"
      ],
      "execution_count": null,
      "outputs": [
        {
          "output_type": "execute_result",
          "data": {
            "text/plain": [
              "array([ 9.56455097,  4.87343262,  7.72538741,  8.64623969, 11.70984625,\n",
              "        8.62718773, 10.80946082, 16.80436465,  7.1591181 , 12.75281165,\n",
              "       13.64422835,  8.75418124, 11.50873447,  6.00503619, 12.30081848,\n",
              "        6.82715889, 11.05560883, 16.58670677, 10.4504005 ,  8.97185791])"
            ]
          },
          "metadata": {},
          "execution_count": 46
        }
      ]
    },
    {
      "cell_type": "code",
      "metadata": {
        "id": "pIkdcQJO7REK"
      },
      "source": [
        "# stem and leaf diagram (plot)\n",
        "!pip install stemgraphic\n",
        "import stemgraphic as stem\n",
        "stem.stem_kde(y)"
      ],
      "execution_count": null,
      "outputs": []
    },
    {
      "cell_type": "markdown",
      "metadata": {
        "id": "F27aKuuFGZZf"
      },
      "source": [
        "**Histogram using the plot.hist extension**\n",
        "ref.\n",
        "https://realpython.com/python-histograms/  "
      ]
    },
    {
      "cell_type": "code",
      "metadata": {
        "colab": {
          "base_uri": "https://localhost:8080/",
          "height": 295
        },
        "id": "gpcZPtmOLIwQ",
        "outputId": "65d85cc6-dd3e-4710-bd9d-52e991a08736"
      },
      "source": [
        "# panda & Matplot histogram example; 1000 obs from a Gamma dist in 20 bins\n",
        "size, scale = 1000, 10\n",
        "commutes = pd.Series(np.random.gamma(scale, size=size) ** 1.5) \n",
        "\n",
        "commutes.plot.hist(grid=True, bins=20, rwidth=0.9,\n",
        "                   color='#607c8e')\n",
        "plt.title('Commute Times for 1,000 Commuters')\n",
        "plt.xlabel('Commute Time')\n",
        "plt.ylabel('Counts')\n",
        "plt.grid(axis='y', alpha=0.75)"
      ],
      "execution_count": null,
      "outputs": [
        {
          "output_type": "display_data",
          "data": {
            "image/png": "[encoded data removed]",
            "text/plain": [
              "<Figure size 432x288 with 1 Axes>"
            ]
          },
          "metadata": {
            "needs_background": "light"
          }
        }
      ]
    },
    {
      "cell_type": "code",
      "metadata": {
        "colab": {
          "base_uri": "https://localhost:8080/",
          "height": 312
        },
        "id": "NKa6PpLLySoE",
        "outputId": "32bdd2f6-45b8-4e30-9004-a407f567cf9e"
      },
      "source": [
        "#Cental limit theorm demo\n",
        "# panda & Matplot histogram example; 1000 obs from a Gamma dist in 20 bins\n",
        "size, scale = 1000, 10\n",
        "x2 = pd.Series(np.random.gamma(scale, size=size) ** 1.5) \n",
        "mu2=np.mean(x2)\n",
        "std2=np.std(x2)\n",
        "z2=(x2-mu2)/std2\n",
        "\n",
        "z2.plot.hist() # histogram default setting\n",
        "plt.title('Standardized Commute Times for 1,000 Commuters')\n",
        "plt.xlabel('Commute Time')\n",
        "plt.ylabel('Counts')\n",
        "#plt.grid(axis='y', alpha=0.75)"
      ],
      "execution_count": 13,
      "outputs": [
        {
          "output_type": "execute_result",
          "data": {
            "text/plain": [
              "Text(0, 0.5, 'Counts')"
            ]
          },
          "metadata": {},
          "execution_count": 13
        },
        {
          "output_type": "display_data",
          "data": {
            "image/png": "[encoded data removed]",
            "text/plain": [
              "<Figure size 432x288 with 1 Axes>"
            ]
          },
          "metadata": {
            "needs_background": "light"
          }
        }
      ]
    },
    {
      "cell_type": "code",
      "metadata": {
        "colab": {
          "base_uri": "https://localhost:8080/",
          "height": 295
        },
        "id": "kiunju0xMZRT",
        "outputId": "d324557e-f605-4af7-e805-ce4e3bfe2fce"
      },
      "source": [
        "# switch data set into y; first convert the array in the panda dataframe format\n",
        "data=pd.Series(y)\n",
        "data.plot.hist(grid=True, bins=5, rwidth=0.9,\n",
        "                   color='#607c8e')\n",
        "plt.title('Data Histogram')\n",
        "plt.xlabel('ranked data')\n",
        "plt.ylabel('Counts')\n",
        "plt.grid(axis='y', alpha=0.75)"
      ],
      "execution_count": null,
      "outputs": [
        {
          "output_type": "display_data",
          "data": {
            "image/png": "[encoded data removed]",
            "text/plain": [
              "<Figure size 432x288 with 1 Axes>"
            ]
          },
          "metadata": {
            "needs_background": "light"
          }
        }
      ]
    },
    {
      "cell_type": "code",
      "metadata": {
        "colab": {
          "base_uri": "https://localhost:8080/"
        },
        "id": "Hj7_eH_HcQKN",
        "outputId": "360e883a-3856-46c3-b153-b8f46f1e4f97"
      },
      "source": [
        "# Frequency Table\n",
        "# Data is from the above cells\n",
        "# Note that this code assumes that each increment is by 1 and the number of bin cannot be controlled\n",
        "# \n",
        "import math\n",
        "# y[0]=int(y[0]) this operation convert a float point into integer\n",
        "# use a for loop to convert to all elements in the y array\n",
        "for i in range(len(y)): y[i]=int(y[i])\n",
        "\n",
        "y"
      ],
      "execution_count": null,
      "outputs": [
        {
          "output_type": "execute_result",
          "data": {
            "text/plain": [
              "array([ 9.,  4.,  7.,  8., 11.,  8., 10., 16.,  7., 12., 13.,  8., 11.,\n",
              "        6., 12.,  6., 11., 16., 10.,  8.])"
            ]
          },
          "metadata": {},
          "execution_count": 50
        }
      ]
    },
    {
      "cell_type": "code",
      "metadata": {
        "colab": {
          "base_uri": "https://localhost:8080/"
        },
        "id": "_YreTiBwYKOB",
        "outputId": "f6ddb385-fc76-4cd2-895e-09a684f863b5"
      },
      "source": [
        "# Frequency Table\n",
        "# Data is from the above cells\n",
        "# Note that this code assumes that each increment is by 1 and the number of bin cannot be controlled\n",
        "ind=pd.Series(y) # the index is like the bin column and the columns are the requency counts\n",
        "# pndata crosstab function is used to count the frequency\n",
        "# this is similary to the stem and leaf plot\n",
        "df1=pd.crosstab(index=ind, columns='freq')\n",
        "df1.freq"
      ],
      "execution_count": null,
      "outputs": [
        {
          "output_type": "execute_result",
          "data": {
            "text/plain": [
              "row_0\n",
              "4.0     1\n",
              "6.0     2\n",
              "7.0     2\n",
              "8.0     4\n",
              "9.0     1\n",
              "10.0    2\n",
              "11.0    3\n",
              "12.0    2\n",
              "13.0    1\n",
              "16.0    2\n",
              "Name: freq, dtype: int64"
            ]
          },
          "metadata": {},
          "execution_count": 56
        }
      ]
    },
    {
      "cell_type": "code",
      "metadata": {
        "colab": {
          "base_uri": "https://localhost:8080/"
        },
        "id": "6-Owq91-iGzr",
        "outputId": "9014d58a-009b-4031-e482-755e83932097"
      },
      "source": [
        "# Use bar chart to plot the frequency table as histogram\n",
        "y1=df1[\"freq\"]\n",
        "y1"
      ],
      "execution_count": null,
      "outputs": [
        {
          "output_type": "execute_result",
          "data": {
            "text/plain": [
              "row_0\n",
              "4.0     1\n",
              "6.0     2\n",
              "7.0     2\n",
              "8.0     4\n",
              "9.0     1\n",
              "10.0    2\n",
              "11.0    3\n",
              "12.0    2\n",
              "13.0    1\n",
              "16.0    2\n",
              "Name: freq, dtype: int64"
            ]
          },
          "metadata": {},
          "execution_count": 55
        }
      ]
    },
    {
      "cell_type": "code",
      "metadata": {
        "colab": {
          "base_uri": "https://localhost:8080/"
        },
        "id": "BxVBqTPeknlC",
        "outputId": "bb223f1d-67a6-46bb-e9e2-d2ec22d3e646"
      },
      "source": [
        "x1=df1.index\n",
        "x1"
      ],
      "execution_count": null,
      "outputs": [
        {
          "output_type": "execute_result",
          "data": {
            "text/plain": [
              "Float64Index([4.0, 6.0, 7.0, 8.0, 9.0, 10.0, 11.0, 12.0, 13.0, 16.0], dtype='float64', name='row_0')"
            ]
          },
          "metadata": {},
          "execution_count": 61
        }
      ]
    },
    {
      "cell_type": "code",
      "metadata": {
        "colab": {
          "base_uri": "https://localhost:8080/",
          "height": 295
        },
        "id": "s_bkV6OQk09D",
        "outputId": "c838a589-7f47-4e11-8344-47589560eb4b"
      },
      "source": [
        "plt.bar(x1,y1, label=\"Frequecy of data\", color='b')\n",
        "plt.xlabel(\"Data\")\n",
        "plt.ylabel(\"Frequency\")\n",
        "plt.title(\"Histogram based on Frequency Table\")\n",
        "plt.legend()\n",
        "plt.show()"
      ],
      "execution_count": null,
      "outputs": [
        {
          "output_type": "display_data",
          "data": {
            "image/png": "[encoded data removed]",
            "text/plain": [
              "<Figure size 432x288 with 1 Axes>"
            ]
          },
          "metadata": {
            "needs_background": "light"
          }
        }
      ]
    }
  ]
}