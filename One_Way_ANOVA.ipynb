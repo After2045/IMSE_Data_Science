{
  "nbformat": 4,
  "nbformat_minor": 0,
  "metadata": {
    "colab": {
      "name": "One-Way ANOVA.ipynb",
      "provenance": [],
      "collapsed_sections": [],
      "authorship_tag": "ABX9TyOZmclhu1jr90NLwRtoUvqc",
      "include_colab_link": true
    },
    "kernelspec": {
      "name": "python3",
      "display_name": "Python 3"
    },
    "language_info": {
      "name": "python"
    }
  },
  "cells": [
    {
      "cell_type": "markdown",
      "metadata": {
        "id": "view-in-github",
        "colab_type": "text"
      },
      "source": [
        "<a href=\"https://colab.research.google.com/github/changsksu/IMSE_Data_Science/blob/main/One_Way_ANOVA.ipynb\" target=\"_parent\"><img src=\"https://colab.research.google.com/assets/colab-badge.svg\" alt=\"Open In Colab\"/></a>"
      ]
    },
    {
      "cell_type": "markdown",
      "metadata": {
        "id": "dDVwl7w2Xknz"
      },
      "source": [
        "This Python notebook demonstrate the computation of One-Way ANOVA. The example is from Montgomery Intro to SQC (7th ed chap 4). Paper strength by hardwood concentration. Ref.\n",
        "https://www.pythonfordatascience.org/anova-python/ "
      ]
    },
    {
      "cell_type": "code",
      "metadata": {
        "id": "Rc7nYxvoWrGy"
      },
      "source": [
        "import math\n",
        "import statistics\n",
        "import numpy as np\n",
        "import scipy.stats\n",
        "from scipy import stats\n",
        "from scipy.stats import f_oneway\n",
        "import pandas as pd\n",
        "import matplotlib.pyplot as plt\n",
        "import statsmodels.api as sm\n",
        "from statsmodels.formula.api import ols\n",
        "import statsmodels.stats.multicomp as mc"
      ],
      "execution_count": 33,
      "outputs": []
    },
    {
      "cell_type": "code",
      "metadata": {
        "colab": {
          "base_uri": "https://localhost:8080/"
        },
        "id": "CWWSKczxFCAS",
        "outputId": "506d5fd0-4430-4095-e779-7564fb3fb01d"
      },
      "source": [
        "# mount google drive\n",
        "from google.colab import drive\n",
        "drive.mount('/content/drive')"
      ],
      "execution_count": 7,
      "outputs": [
        {
          "output_type": "stream",
          "name": "stdout",
          "text": [
            "Drive already mounted at /content/drive; to attempt to forcibly remount, call drive.mount(\"/content/drive\", force_remount=True).\n"
          ]
        }
      ]
    },
    {
      "cell_type": "code",
      "metadata": {
        "colab": {
          "base_uri": "https://localhost:8080/",
          "height": 793
        },
        "id": "yFZh17e5FMgn",
        "outputId": "fba7e4eb-caa9-44d3-8f63-6f157360d896"
      },
      "source": [
        "#the 2nd read option assume that the data file is rignt under your default google drive directory\n",
        "data = pd.read_csv('drive/My Drive/Colab Notebooks/IMSE_Data_Science/Data/paper_strength.csv', sep=',', na_values=\".\")\n",
        "\n",
        "data  "
      ],
      "execution_count": 32,
      "outputs": [
        {
          "output_type": "execute_result",
          "data": {
            "text/html": [
              "<div>\n",
              "<style scoped>\n",
              "    .dataframe tbody tr th:only-of-type {\n",
              "        vertical-align: middle;\n",
              "    }\n",
              "\n",
              "    .dataframe tbody tr th {\n",
              "        vertical-align: top;\n",
              "    }\n",
              "\n",
              "    .dataframe thead th {\n",
              "        text-align: right;\n",
              "    }\n",
              "</style>\n",
              "<table border=\"1\" class=\"dataframe\">\n",
              "  <thead>\n",
              "    <tr style=\"text-align: right;\">\n",
              "      <th></th>\n",
              "      <th>Obs</th>\n",
              "      <th>Conc</th>\n",
              "      <th>Strength</th>\n",
              "    </tr>\n",
              "  </thead>\n",
              "  <tbody>\n",
              "    <tr>\n",
              "      <th>0</th>\n",
              "      <td>1</td>\n",
              "      <td>5</td>\n",
              "      <td>7</td>\n",
              "    </tr>\n",
              "    <tr>\n",
              "      <th>1</th>\n",
              "      <td>2</td>\n",
              "      <td>5</td>\n",
              "      <td>8</td>\n",
              "    </tr>\n",
              "    <tr>\n",
              "      <th>2</th>\n",
              "      <td>3</td>\n",
              "      <td>5</td>\n",
              "      <td>15</td>\n",
              "    </tr>\n",
              "    <tr>\n",
              "      <th>3</th>\n",
              "      <td>4</td>\n",
              "      <td>5</td>\n",
              "      <td>11</td>\n",
              "    </tr>\n",
              "    <tr>\n",
              "      <th>4</th>\n",
              "      <td>5</td>\n",
              "      <td>5</td>\n",
              "      <td>9</td>\n",
              "    </tr>\n",
              "    <tr>\n",
              "      <th>5</th>\n",
              "      <td>6</td>\n",
              "      <td>5</td>\n",
              "      <td>10</td>\n",
              "    </tr>\n",
              "    <tr>\n",
              "      <th>6</th>\n",
              "      <td>1</td>\n",
              "      <td>10</td>\n",
              "      <td>12</td>\n",
              "    </tr>\n",
              "    <tr>\n",
              "      <th>7</th>\n",
              "      <td>2</td>\n",
              "      <td>10</td>\n",
              "      <td>17</td>\n",
              "    </tr>\n",
              "    <tr>\n",
              "      <th>8</th>\n",
              "      <td>3</td>\n",
              "      <td>10</td>\n",
              "      <td>13</td>\n",
              "    </tr>\n",
              "    <tr>\n",
              "      <th>9</th>\n",
              "      <td>4</td>\n",
              "      <td>10</td>\n",
              "      <td>18</td>\n",
              "    </tr>\n",
              "    <tr>\n",
              "      <th>10</th>\n",
              "      <td>5</td>\n",
              "      <td>10</td>\n",
              "      <td>19</td>\n",
              "    </tr>\n",
              "    <tr>\n",
              "      <th>11</th>\n",
              "      <td>6</td>\n",
              "      <td>10</td>\n",
              "      <td>15</td>\n",
              "    </tr>\n",
              "    <tr>\n",
              "      <th>12</th>\n",
              "      <td>1</td>\n",
              "      <td>15</td>\n",
              "      <td>14</td>\n",
              "    </tr>\n",
              "    <tr>\n",
              "      <th>13</th>\n",
              "      <td>2</td>\n",
              "      <td>15</td>\n",
              "      <td>18</td>\n",
              "    </tr>\n",
              "    <tr>\n",
              "      <th>14</th>\n",
              "      <td>3</td>\n",
              "      <td>15</td>\n",
              "      <td>19</td>\n",
              "    </tr>\n",
              "    <tr>\n",
              "      <th>15</th>\n",
              "      <td>4</td>\n",
              "      <td>15</td>\n",
              "      <td>17</td>\n",
              "    </tr>\n",
              "    <tr>\n",
              "      <th>16</th>\n",
              "      <td>5</td>\n",
              "      <td>15</td>\n",
              "      <td>16</td>\n",
              "    </tr>\n",
              "    <tr>\n",
              "      <th>17</th>\n",
              "      <td>6</td>\n",
              "      <td>15</td>\n",
              "      <td>18</td>\n",
              "    </tr>\n",
              "    <tr>\n",
              "      <th>18</th>\n",
              "      <td>1</td>\n",
              "      <td>20</td>\n",
              "      <td>19</td>\n",
              "    </tr>\n",
              "    <tr>\n",
              "      <th>19</th>\n",
              "      <td>2</td>\n",
              "      <td>20</td>\n",
              "      <td>25</td>\n",
              "    </tr>\n",
              "    <tr>\n",
              "      <th>20</th>\n",
              "      <td>3</td>\n",
              "      <td>20</td>\n",
              "      <td>22</td>\n",
              "    </tr>\n",
              "    <tr>\n",
              "      <th>21</th>\n",
              "      <td>4</td>\n",
              "      <td>20</td>\n",
              "      <td>23</td>\n",
              "    </tr>\n",
              "    <tr>\n",
              "      <th>22</th>\n",
              "      <td>5</td>\n",
              "      <td>20</td>\n",
              "      <td>18</td>\n",
              "    </tr>\n",
              "    <tr>\n",
              "      <th>23</th>\n",
              "      <td>6</td>\n",
              "      <td>20</td>\n",
              "      <td>20</td>\n",
              "    </tr>\n",
              "  </tbody>\n",
              "</table>\n",
              "</div>"
            ],
            "text/plain": [
              "    Obs  Conc  Strength\n",
              "0     1     5         7\n",
              "1     2     5         8\n",
              "2     3     5        15\n",
              "3     4     5        11\n",
              "4     5     5         9\n",
              "5     6     5        10\n",
              "6     1    10        12\n",
              "7     2    10        17\n",
              "8     3    10        13\n",
              "9     4    10        18\n",
              "10    5    10        19\n",
              "11    6    10        15\n",
              "12    1    15        14\n",
              "13    2    15        18\n",
              "14    3    15        19\n",
              "15    4    15        17\n",
              "16    5    15        16\n",
              "17    6    15        18\n",
              "18    1    20        19\n",
              "19    2    20        25\n",
              "20    3    20        22\n",
              "21    4    20        23\n",
              "22    5    20        18\n",
              "23    6    20        20"
            ]
          },
          "metadata": {},
          "execution_count": 32
        }
      ]
    },
    {
      "cell_type": "code",
      "metadata": {
        "colab": {
          "base_uri": "https://localhost:8080/"
        },
        "id": "0TLzFk7pCvnR",
        "outputId": "38672060-7667-4c6d-d6d2-28a93dc8db74"
      },
      "source": [
        "# filter out 5% hardwood concentration and validate it\n",
        "Conc5=data[data['Conc']==5]['Strength']\n",
        "Conc5"
      ],
      "execution_count": 17,
      "outputs": [
        {
          "output_type": "execute_result",
          "data": {
            "text/plain": [
              "0     7\n",
              "1     8\n",
              "2    15\n",
              "3    11\n",
              "4     9\n",
              "5    10\n",
              "Name: Strength, dtype: int64"
            ]
          },
          "metadata": {},
          "execution_count": 17
        }
      ]
    },
    {
      "cell_type": "code",
      "metadata": {
        "colab": {
          "base_uri": "https://localhost:8080/"
        },
        "id": "kR7BQvLu09Sz",
        "outputId": "39a00c33-84b0-4bd1-e0cb-db09a2900d1e"
      },
      "source": [
        "# another way for filtering\n",
        "testdata=data['Strength'][data['Conc'] == 5]\n",
        "testdata"
      ],
      "execution_count": 37,
      "outputs": [
        {
          "output_type": "execute_result",
          "data": {
            "text/plain": [
              "0     7\n",
              "1     8\n",
              "2    15\n",
              "3    11\n",
              "4     9\n",
              "5    10\n",
              "Name: Strength, dtype: int64"
            ]
          },
          "metadata": {},
          "execution_count": 37
        }
      ]
    },
    {
      "cell_type": "code",
      "metadata": {
        "id": "S4dqNBWg1EzA"
      },
      "source": [
        ""
      ],
      "execution_count": null,
      "outputs": []
    },
    {
      "cell_type": "code",
      "metadata": {
        "id": "b71Q4cXfLTKr"
      },
      "source": [
        "# filter out all other concentration\n",
        "Conc10=data[data['Conc']==10]['Strength']\n",
        "Conc15=data[data['Conc']==15]['Strength']\n",
        "Conc20=data[data['Conc']==20]['Strength']"
      ],
      "execution_count": 18,
      "outputs": []
    },
    {
      "cell_type": "code",
      "metadata": {
        "colab": {
          "base_uri": "https://localhost:8080/"
        },
        "id": "pqhYpT7ALtHF",
        "outputId": "e4e0a314-e4ae-4e62-b6b1-985c57d23792"
      },
      "source": [
        "# run one way anova\n",
        "# make sure Conc is capital on the first letter; varaible name is case sensitive!\n",
        "stat, p=f_oneway(Conc5, Conc10, Conc15, Conc20 )\n",
        "print('stat=%.3f, p=%.3f' %(stat,p))"
      ],
      "execution_count": 19,
      "outputs": [
        {
          "output_type": "stream",
          "name": "stdout",
          "text": [
            "stat=19.605, p=0.000\n"
          ]
        }
      ]
    },
    {
      "cell_type": "markdown",
      "metadata": {
        "id": "_i0f3HQRMZ1S"
      },
      "source": [
        "The F test from one-way ANOVA is used to test\n",
        "**H0: tau5%=tau10%=tau15%=mtau20%=0 **vs\n",
        "H1: at least one tau <>0\n",
        "Since the pvalue is very small, we would reject H0 and conclude that \n",
        "there is a difference in paper strenght influenced by hardwood concentration "
      ]
    },
    {
      "cell_type": "code",
      "metadata": {
        "colab": {
          "base_uri": "https://localhost:8080/"
        },
        "id": "N-HZ4yDDTc0k",
        "outputId": "2cc42314-f369-444d-d658-a794ccf8d350"
      },
      "source": [
        "df=data #df means data frame\n",
        "df.info()"
      ],
      "execution_count": 20,
      "outputs": [
        {
          "output_type": "stream",
          "name": "stdout",
          "text": [
            "<class 'pandas.core.frame.DataFrame'>\n",
            "RangeIndex: 24 entries, 0 to 23\n",
            "Data columns (total 3 columns):\n",
            " #   Column    Non-Null Count  Dtype\n",
            "---  ------    --------------  -----\n",
            " 0   Obs       24 non-null     int64\n",
            " 1   Conc      24 non-null     int64\n",
            " 2   Strength  24 non-null     int64\n",
            "dtypes: int64(3)\n",
            "memory usage: 704.0 bytes\n"
          ]
        }
      ]
    },
    {
      "cell_type": "code",
      "metadata": {
        "colab": {
          "base_uri": "https://localhost:8080/",
          "height": 111
        },
        "id": "Dnlzia-DSF0Z",
        "outputId": "d425cbb8-93de-4123-ac6d-a40c3d43c7a6"
      },
      "source": [
        "# To generate anova table, we can use the ols model from statsmodel\n",
        "\n",
        "model = ols('Strength ~ C(Conc)', data=df).fit()\n",
        "aov_table = sm.stats.anova_lm(model, typ=2)\n",
        "aov_table"
      ],
      "execution_count": 23,
      "outputs": [
        {
          "output_type": "execute_result",
          "data": {
            "text/html": [
              "<div>\n",
              "<style scoped>\n",
              "    .dataframe tbody tr th:only-of-type {\n",
              "        vertical-align: middle;\n",
              "    }\n",
              "\n",
              "    .dataframe tbody tr th {\n",
              "        vertical-align: top;\n",
              "    }\n",
              "\n",
              "    .dataframe thead th {\n",
              "        text-align: right;\n",
              "    }\n",
              "</style>\n",
              "<table border=\"1\" class=\"dataframe\">\n",
              "  <thead>\n",
              "    <tr style=\"text-align: right;\">\n",
              "      <th></th>\n",
              "      <th>sum_sq</th>\n",
              "      <th>df</th>\n",
              "      <th>F</th>\n",
              "      <th>PR(&gt;F)</th>\n",
              "    </tr>\n",
              "  </thead>\n",
              "  <tbody>\n",
              "    <tr>\n",
              "      <th>C(Conc)</th>\n",
              "      <td>382.791667</td>\n",
              "      <td>3.0</td>\n",
              "      <td>19.605207</td>\n",
              "      <td>0.000004</td>\n",
              "    </tr>\n",
              "    <tr>\n",
              "      <th>Residual</th>\n",
              "      <td>130.166667</td>\n",
              "      <td>20.0</td>\n",
              "      <td>NaN</td>\n",
              "      <td>NaN</td>\n",
              "    </tr>\n",
              "  </tbody>\n",
              "</table>\n",
              "</div>"
            ],
            "text/plain": [
              "              sum_sq    df          F    PR(>F)\n",
              "C(Conc)   382.791667   3.0  19.605207  0.000004\n",
              "Residual  130.166667  20.0        NaN       NaN"
            ]
          },
          "metadata": {},
          "execution_count": 23
        }
      ]
    },
    {
      "cell_type": "code",
      "metadata": {
        "colab": {
          "base_uri": "https://localhost:8080/",
          "height": 627
        },
        "id": "TvzP67M7U4sV",
        "outputId": "1ec27f9d-5534-4e38-9a23-79406d49da6d"
      },
      "source": [
        "# Residual Analysis\n",
        "# normal check\n",
        "fig = plt.figure(figsize= (10, 10))\n",
        "ax = fig.add_subplot(111)\n",
        "\n",
        "normality_plot, stat = stats.probplot(model.resid, plot= plt, rvalue= True)\n",
        "ax.set_title(\"Probability plot of model residual's\", fontsize= 20)\n",
        "ax.set\n",
        "\n",
        "plt.show()"
      ],
      "execution_count": 28,
      "outputs": [
        {
          "output_type": "display_data",
          "data": {
            "image/png": "[encoded data removed]",
            "text/plain": [
              "<Figure size 720x720 with 1 Axes>"
            ]
          },
          "metadata": {
            "needs_background": "light"
          }
        }
      ]
    },
    {
      "cell_type": "code",
      "metadata": {
        "colab": {
          "base_uri": "https://localhost:8080/"
        },
        "id": "NmlcL6VBVjcD",
        "outputId": "42b2e2db-d6fe-4ef3-9f33-511f1485fb78"
      },
      "source": [
        "# Homogeneity of Variance check\n",
        "# Levene() method\n",
        "\n",
        "stats.levene(df['Strength'][df['Conc'] == 5],\n",
        "             df['Strength'][df['Conc'] == 10],\n",
        "             df['Strength'][df['Conc'] == 15],\n",
        "             df['Strength'][df['Conc'] == 20])"
      ],
      "execution_count": 29,
      "outputs": [
        {
          "output_type": "execute_result",
          "data": {
            "text/plain": [
              "LeveneResult(statistic=0.5988455988455988, pvalue=0.6231941028644978)"
            ]
          },
          "metadata": {},
          "execution_count": 29
        }
      ]
    },
    {
      "cell_type": "markdown",
      "metadata": {
        "id": "p2n_II8VWS6g"
      },
      "source": [
        "The p value of the Levene is very large. We don't have evidence to conclude that the variances from different hardwood concentration are different"
      ]
    },
    {
      "cell_type": "code",
      "metadata": {
        "colab": {
          "base_uri": "https://localhost:8080/",
          "height": 627
        },
        "id": "u0t70uvdWgUd",
        "outputId": "fc3907bd-e201-4f2c-9059-efb5ff986b92"
      },
      "source": [
        "fig = plt.figure(figsize= (10, 10))\n",
        "ax = fig.add_subplot(111)\n",
        "\n",
        "ax.set_title(\"Box Plot of Paper Strength by Hardwood Concentration\", fontsize= 20)\n",
        "ax.set\n",
        "\n",
        "data2 = [df['Strength'][df['Conc'] == 5],\n",
        "             df['Strength'][df['Conc'] == 10],\n",
        "             df['Strength'][df['Conc'] == 15],\n",
        "             df['Strength'][df['Conc'] == 20]]\n",
        "\n",
        "ax.boxplot(data2,\n",
        "           labels= ['5%', '10%', '15%', '20%'],\n",
        "           showmeans= True)\n",
        "\n",
        "plt.xlabel(\"Hardwood Concentration %\")\n",
        "plt.ylabel(\"Paper Strength\")\n",
        "\n",
        "plt.show()"
      ],
      "execution_count": 31,
      "outputs": [
        {
          "output_type": "display_data",
          "data": {
            "image/png": "[encoded data removed]",
            "text/plain": [
              "<Figure size 720x720 with 1 Axes>"
            ]
          },
          "metadata": {
            "needs_background": "light"
          }
        }
      ]
    },
    {
      "cell_type": "code",
      "metadata": {
        "colab": {
          "base_uri": "https://localhost:8080/"
        },
        "id": "h6ArZLGF1jco",
        "outputId": "3bd00a81-3545-4a93-96eb-20f396f71603"
      },
      "source": [
        "# the data structure of data2\n",
        "print(data2)"
      ],
      "execution_count": 40,
      "outputs": [
        {
          "output_type": "stream",
          "name": "stdout",
          "text": [
            "[0     7\n",
            "1     8\n",
            "2    15\n",
            "3    11\n",
            "4     9\n",
            "5    10\n",
            "Name: Strength, dtype: int64, 6     12\n",
            "7     17\n",
            "8     13\n",
            "9     18\n",
            "10    19\n",
            "11    15\n",
            "Name: Strength, dtype: int64, 12    14\n",
            "13    18\n",
            "14    19\n",
            "15    17\n",
            "16    16\n",
            "17    18\n",
            "Name: Strength, dtype: int64, 18    19\n",
            "19    25\n",
            "20    22\n",
            "21    23\n",
            "22    18\n",
            "23    20\n",
            "Name: Strength, dtype: int64]\n"
          ]
        }
      ]
    },
    {
      "cell_type": "code",
      "metadata": {
        "colab": {
          "base_uri": "https://localhost:8080/",
          "height": 183
        },
        "id": "uTaK08FnXdk_",
        "outputId": "34036aa1-35ca-404b-8c6f-6be9bb2ddc2c"
      },
      "source": [
        "# Multiple comparison test \n",
        "# ref https://www.statsmodels.org/devel/generated/statsmodels.sandbox.stats.multicomp.MultiComparison.html \n",
        "#Tukey Honestly Significat Difference (HSD)\n",
        "comp = mc.MultiComparison(df['Strength'], df['Conc'])\n",
        "post_hoc_res = comp.tukeyhsd()\n",
        "post_hoc_res.summary()"
      ],
      "execution_count": 34,
      "outputs": [
        {
          "output_type": "execute_result",
          "data": {
            "text/html": [
              "<table class=\"simpletable\">\n",
              "<caption>Multiple Comparison of Means - Tukey HSD, FWER=0.05</caption>\n",
              "<tr>\n",
              "  <th>group1</th> <th>group2</th> <th>meandiff</th>  <th>p-adj</th>  <th>lower</th>   <th>upper</th>  <th>reject</th>\n",
              "</tr>\n",
              "<tr>\n",
              "     <td>5</td>     <td>10</td>    <td>5.6667</td>  <td>0.0051</td> <td>1.5439</td>  <td>9.7894</td>   <td>True</td> \n",
              "</tr>\n",
              "<tr>\n",
              "     <td>5</td>     <td>15</td>      <td>7.0</td>    <td>0.001</td> <td>2.8773</td>  <td>11.1227</td>  <td>True</td> \n",
              "</tr>\n",
              "<tr>\n",
              "     <td>5</td>     <td>20</td>    <td>11.1667</td>  <td>0.001</td> <td>7.0439</td>  <td>15.2894</td>  <td>True</td> \n",
              "</tr>\n",
              "<tr>\n",
              "    <td>10</td>     <td>15</td>    <td>1.3333</td>  <td>0.7827</td> <td>-2.7894</td> <td>5.4561</td>   <td>False</td>\n",
              "</tr>\n",
              "<tr>\n",
              "    <td>10</td>     <td>20</td>      <td>5.5</td>   <td>0.0066</td> <td>1.3773</td>  <td>9.6227</td>   <td>True</td> \n",
              "</tr>\n",
              "<tr>\n",
              "    <td>15</td>     <td>20</td>    <td>4.1667</td>   <td>0.047</td> <td>0.0439</td>  <td>8.2894</td>   <td>True</td> \n",
              "</tr>\n",
              "</table>"
            ],
            "text/plain": [
              "<class 'statsmodels.iolib.table.SimpleTable'>"
            ]
          },
          "metadata": {},
          "execution_count": 34
        }
      ]
    },
    {
      "cell_type": "code",
      "metadata": {
        "colab": {
          "base_uri": "https://localhost:8080/",
          "height": 791
        },
        "id": "GJDKJfwszQu3",
        "outputId": "b19db7fa-da57-4be7-e8e7-deea14481842"
      },
      "source": [
        "#visualize the Tukey test\n",
        "post_hoc_res.plot_simultaneous(ylabel= \"Hardwood concentration\", xlabel= \"Strength Difference\")"
      ],
      "execution_count": 35,
      "outputs": [
        {
          "output_type": "execute_result",
          "data": {
            "image/png": "[encoded data removed]",
            "text/plain": [
              "<Figure size 720x432 with 1 Axes>"
            ]
          },
          "metadata": {},
          "execution_count": 35
        },
        {
          "output_type": "display_data",
          "data": {
            "image/png": "[encoded data removed]",
            "text/plain": [
              "<Figure size 720x432 with 1 Axes>"
            ]
          },
          "metadata": {
            "needs_background": "light"
          }
        }
      ]
    }
  ]
}