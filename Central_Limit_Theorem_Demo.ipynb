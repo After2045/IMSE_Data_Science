{
  "nbformat": 4,
  "nbformat_minor": 0,
  "metadata": {
    "colab": {
      "name": "Central Limit Theorem Demo.ipynb",
      "provenance": [],
      "collapsed_sections": [],
      "authorship_tag": "ABX9TyPp2u8j0hNF1QYC0o9c20QR",
      "include_colab_link": true
    },
    "kernelspec": {
      "name": "python3",
      "display_name": "Python 3"
    },
    "language_info": {
      "name": "python"
    }
  },
  "cells": [
    {
      "cell_type": "markdown",
      "metadata": {
        "id": "view-in-github",
        "colab_type": "text"
      },
      "source": [
        "<a href=\"https://colab.research.google.com/github/changsksu/IMSE_Data_Science/blob/main/Central_Limit_Theorem_Demo.ipynb\" target=\"_parent\"><img src=\"https://colab.research.google.com/assets/colab-badge.svg\" alt=\"Open In Colab\"/></a>"
      ]
    },
    {
      "cell_type": "markdown",
      "metadata": {
        "id": "d_QR914jQfhc"
      },
      "source": [
        "**This notebook introduces a few useful descriptive statistics offered in python. Not all functions are offered in one library. Usually there are alteratives to do the same computations.** "
      ]
    },
    {
      "cell_type": "markdown",
      "metadata": {
        "id": "PejXMTvrLfqP"
      },
      "source": [
        "Using a uniform distribution to demonstrate Central Limit Theorem (**CLT**)"
      ]
    },
    {
      "cell_type": "code",
      "metadata": {
        "id": "yTn_p0aJQ6vI"
      },
      "source": [
        "import math\n",
        "import statistics\n",
        "import numpy as np\n",
        "import scipy.stats\n",
        "import pandas as pd\n",
        "import matplotlib.pyplot as plt"
      ],
      "execution_count": null,
      "outputs": []
    },
    {
      "cell_type": "code",
      "metadata": {
        "id": "luI70BWrGjiw"
      },
      "source": [
        "# generate uniform random number\n",
        "# n is the sample size\n",
        "n=10\n",
        "size=500\n",
        "# each element is replaced by the mean of n uniformly distributed sample\n",
        "x2 = pd.Series(np.random.random(size))\n",
        "for i in range(size): \n",
        "  sample2=np.random.random_sample(n)\n",
        "  x2[i]=np.mean(sample2)\n"
      ],
      "execution_count": null,
      "outputs": []
    },
    {
      "cell_type": "code",
      "metadata": {
        "colab": {
          "base_uri": "https://localhost:8080/",
          "height": 295
        },
        "id": "ldGPYVwSGQ3X",
        "outputId": "db2c361f-f8d1-45a2-b728-19e5b65372d8"
      },
      "source": [
        "#Cental limit theorem demo\n",
        "\n",
        "x2.plot.hist(grid=True, bins=20, rwidth=0.9,\n",
        "                   color='#607c8e')\n",
        "plt.title('uniform random CLT')\n",
        "plt.xlabel('Transformed Data')\n",
        "plt.ylabel('Frequency')\n",
        "plt.grid(axis='y', alpha=0.75)"
      ],
      "execution_count": null,
      "outputs": [
        {
          "output_type": "display_data",
          "data": {
            "image/png": "[encoded data removed]",
            "text/plain": [
              "<Figure size 432x288 with 1 Axes>"
            ]
          },
          "metadata": {
            "needs_background": "light"
          }
        }
      ]
    },
    {
      "cell_type": "markdown",
      "metadata": {
        "id": "jZpaUIYXNf0-"
      },
      "source": [
        "Your turn: can you replace the uniform distribution with an exponential distribution?"
      ]
    }
  ]
}